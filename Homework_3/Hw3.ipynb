{
  "nbformat": 4,
  "nbformat_minor": 0,
  "metadata": {
    "colab": {
      "provenance": []
    },
    "kernelspec": {
      "name": "python3",
      "display_name": "Python 3"
    },
    "language_info": {
      "name": "python"
    }
  },
  "cells": [
    {
      "cell_type": "code",
      "execution_count": 1,
      "metadata": {
        "id": "vK1UlfDwUi8H"
      },
      "outputs": [],
      "source": [
        "# напишіть функцію гіпотези лінійної регресії у векторному вигляді\n",
        "import numpy as np\n",
        "\n",
        "def hypothesis(X, theta):\n",
        "    return np.dot(X, theta)"
      ]
    },
    {
      "cell_type": "code",
      "source": [
        "# створіть функцію для обчислення функції втрат у векторному вигляді\n",
        "def compute_loss(X, y, theta):\n",
        "    m = len(y)\n",
        "    predictions = hypothesis(X, theta)\n",
        "    loss = (1 / (2 * m)) * np.dot((predictions - y).T, (predictions - y))\n",
        "    return loss[0]"
      ],
      "metadata": {
        "id": "PDcnLnxWVkKM"
      },
      "execution_count": null,
      "outputs": []
    },
    {
      "cell_type": "code",
      "source": [
        "# реалізуйте один крок градієнтного спуску\n",
        "def gradient_descent_step(X, y, theta, alpha):\n",
        "    m = len(y)\n",
        "    predictions = hypothesis(X, theta)\n",
        "    gradient = (1 / m) * np.dot(X.T, (predictions - y))\n",
        "    theta_new = theta - alpha * gradient\n",
        "    return theta_new"
      ],
      "metadata": {
        "id": "CIsYFE6AV1t7"
      },
      "execution_count": null,
      "outputs": []
    },
    {
      "cell_type": "code",
      "source": [
        "# знайдіть найкращі параметри w для датасету прогнозуючу ціну на будинок залежно від площі, кількості ванних кімнат та кількості спалень\n",
        "import numpy as np\n",
        "import pandas as pd\n",
        "from sklearn.model_selection import train_test_split\n",
        "from sklearn.preprocessing import StandardScaler\n",
        "\n",
        "# URL датасету\n",
        "url = 'https://drive.google.com/uc?export=download&id=1-rAa4XT4_fI0dOBlMNuE6a7jB0wln_Qo'\n",
        "\n",
        "# Завантажуємо датасет\n",
        "data = pd.read_csv(url)\n",
        "\n",
        "# Вибераємо ознаки та цільову змінну\n",
        "features = data[['area', 'bedrooms', 'bathrooms']]\n",
        "target = data['price']\n",
        "\n",
        "# Нормалізуємо дані\n",
        "scaler = StandardScaler()\n",
        "features_scaled = scaler.fit_transform(features)\n",
        "\n",
        "# Ділим дані на тренувальний та тестовий набори\n",
        "X_train, X_test, y_train, y_test = train_test_split(features_scaled, target, test_size=0.2, random_state=42)\n",
        "\n",
        "# Додаємо стовпець з одиницями для зміщення (bias)\n",
        "X_train = np.hstack((np.ones((X_train.shape[0], 1)), X_train))\n",
        "X_test = np.hstack((np.ones((X_test.shape[0], 1)), X_test))\n",
        "\n",
        "# Ініціалізуємо параметри моделі\n",
        "theta_gd = np.zeros(X_train.shape[1])\n",
        "\n",
        "# Параметри градієнтного спуску\n",
        "learning_rate = 0.01\n",
        "num_iterations = 50000\n",
        "\n",
        "# Функція для одного кроку градієнтного спуску\n",
        "def gradient_descent_step(X, y, theta, learning_rate):\n",
        "    m = len(y)\n",
        "    predictions = X.dot(theta)\n",
        "    errors = predictions - y\n",
        "    gradient = X.T.dot(errors) / m\n",
        "    theta -= learning_rate * gradient\n",
        "    return theta\n",
        "\n",
        "# Використовуємо градієнтний спуск для знаходження найкращих параметрів\n",
        "for i in range(num_iterations):\n",
        "    theta_gd = gradient_descent_step(X_train, y_train, theta_gd, learning_rate)\n",
        "\n",
        "# Виводимо знайдені параметри для градієнтного спуску\n",
        "print(\"Найкращі параметри:\", theta_gd)"
      ],
      "metadata": {
        "colab": {
          "base_uri": "https://localhost:8080/"
        },
        "id": "A64UfcUTWKpS",
        "outputId": "8cf58fa9-b7eb-4330-ba74-3e494ee43a16"
      },
      "execution_count": 21,
      "outputs": [
        {
          "output_type": "stream",
          "name": "stdout",
          "text": [
            "Найкращі параметри (градієнтний спуск): [4736303.1615296   749023.05142652  265604.85843734  714016.44847747]\n"
          ]
        }
      ]
    },
    {
      "cell_type": "code",
      "source": [
        "# знайдіть ці ж параметри за допомогою аналітичного рішення\n",
        "import numpy as np\n",
        "import pandas as pd\n",
        "from sklearn.model_selection import train_test_split\n",
        "from sklearn.preprocessing import StandardScaler\n",
        "\n",
        "# URL датасету\n",
        "url = 'https://drive.google.com/uc?export=download&id=1-rAa4XT4_fI0dOBlMNuE6a7jB0wln_Qo'\n",
        "\n",
        "# Завантажуємо датасет\n",
        "data = pd.read_csv(url)\n",
        "\n",
        "# Вибераємо ознаки та цільову змінну\n",
        "features = data[['area', 'bedrooms', 'bathrooms']]\n",
        "target = data['price']\n",
        "\n",
        "# Нормалізуємо дані\n",
        "scaler = StandardScaler()\n",
        "features_scaled = scaler.fit_transform(features)\n",
        "\n",
        "# Ділим дані на тренувальний та тестовий набори\n",
        "X_train, X_test, y_train, y_test = train_test_split(features_scaled, target, test_size=0.2, random_state=42)\n",
        "\n",
        "# Додаємо стовпець з одиницями для зміщення (bias)\n",
        "X_train = np.hstack((np.ones((X_train.shape[0], 1)), X_train))\n",
        "\n",
        "# Знаходимо параметри за допомогою аналітичного рішення\n",
        "theta = np.linalg.inv(X_train.T @ X_train) @ X_train.T @ y_train\n",
        "\n",
        "# Виводимо знайдені параметри\n",
        "print(\"Найкращі параметри:\", theta)"
      ],
      "metadata": {
        "colab": {
          "base_uri": "https://localhost:8080/"
        },
        "id": "fLqunaiGc_97",
        "outputId": "b0ed6386-5a2d-407f-ba4a-fd5b0ee3ae69"
      },
      "execution_count": 18,
      "outputs": [
        {
          "output_type": "stream",
          "name": "stdout",
          "text": [
            "Найкращі параметри: [4736303.16152964  749023.05142651  265604.85843734  714016.44847748]\n"
          ]
        }
      ]
    },
    {
      "cell_type": "code",
      "source": [
        "#порівняйте отримані результати\n",
        "print(\"Найкращі параметри (градієнтний спуск):\", theta_gd)\n",
        "print(\"Найкращі параметри (аналітичний метод):\", theta_analytical)"
      ],
      "metadata": {
        "colab": {
          "base_uri": "https://localhost:8080/"
        },
        "id": "XZSZOn84fwd2",
        "outputId": "2ec13b63-0da4-403f-dd82-dca7f49d7a63"
      },
      "execution_count": 22,
      "outputs": [
        {
          "output_type": "stream",
          "name": "stdout",
          "text": [
            "Найкращі параметри (градієнтний спуск): [4736303.1615296   749023.05142652  265604.85843734  714016.44847747]\n",
            "Найкращі параметри (аналітичний метод): [4736303.16152964  749023.05142651  265604.85843734  714016.44847748]\n"
          ]
        }
      ]
    }
  ]
}