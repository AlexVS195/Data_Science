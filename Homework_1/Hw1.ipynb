{
 "cells": [
  {
   "cell_type": "code",
   "execution_count": 18,
   "id": "12433e9b-fd4f-46cb-861c-dc106479f48e",
   "metadata": {},
   "outputs": [
    {
     "name": "stdout",
     "output_type": "stream",
     "text": [
      "Vector: [ 1  2  3  4  5  6  7  8  9 10]\n"
     ]
    }
   ],
   "source": [
    "# 1. Створення одновимірного масиву (вектора) з першими 10-ма натуральними числами\n",
    "import numpy as np\n",
    "\n",
    "vector = np.arange(1, 11)\n",
    "print(\"Vector:\", vector)"
   ]
  },
  {
   "cell_type": "code",
   "execution_count": 19,
   "id": "c8c752ec-ff71-4b4b-8366-c6ba13606cd3",
   "metadata": {},
   "outputs": [
    {
     "name": "stdout",
     "output_type": "stream",
     "text": [
      "Matrix 3x3: [[0. 0. 0.]\n",
      " [0. 0. 0.]\n",
      " [0. 0. 0.]]\n"
     ]
    }
   ],
   "source": [
    "# 2. Створення двовимірного масиву (матриці) розміром 3x3, заповніть його нулями\n",
    "import numpy as np\n",
    "\n",
    "matrix_3x3 = np.zeros((3, 3))\n",
    "print(\"Matrix 3x3:\", matrix_3x3)"
   ]
  },
  {
   "cell_type": "code",
   "execution_count": 20,
   "id": "01944473-33e2-4e9d-b088-630283334818",
   "metadata": {},
   "outputs": [
    {
     "name": "stdout",
     "output_type": "stream",
     "text": [
      "Matrix 5x5: [[ 6 10  5 10  3]\n",
      " [ 6  9  3  4  7]\n",
      " [ 3  6  1  9  5]\n",
      " [ 2  2  7  1 10]\n",
      " [ 6  7  3  3  3]]\n"
     ]
    }
   ],
   "source": [
    "# 3. Створення масиву розміром 5x5, заповніть його випадковими цілими числами в діапазоні від 1 до 10\n",
    "import numpy as np\n",
    "\n",
    "matrix_5x5 = np.random.randint(1, 11, size=(5, 5))\n",
    "print(\"Matrix 5x5:\", matrix_5x5)"
   ]
  },
  {
   "cell_type": "code",
   "execution_count": 21,
   "id": "07606c24-d2c1-4f9d-9025-2eb1a462fef1",
   "metadata": {},
   "outputs": [
    {
     "name": "stdout",
     "output_type": "stream",
     "text": [
      "Matrix 4x4: [[0.21097491 0.61623639 0.27458348 0.4288348 ]\n",
      " [0.81300437 0.25329118 0.63584839 0.56399881]\n",
      " [0.09319015 0.8403596  0.13052277 0.48255898]\n",
      " [0.43371595 0.49072903 0.31644556 0.46098123]]\n"
     ]
    }
   ],
   "source": [
    "# 4. Створення масиву розміром 4x4, заповніть його випадковими дійсними числами в діапазоні від 0 до 1\n",
    "import numpy as np\n",
    "\n",
    "matrix_4x4 = np.random.rand(4, 4)\n",
    "print(\"Matrix 4x4:\", matrix_4x4)"
   ]
  },
  {
   "cell_type": "code",
   "execution_count": 22,
   "id": "b66a71d9-b5f1-4db8-aca3-70183b56154d",
   "metadata": {},
   "outputs": [
    {
     "name": "stdout",
     "output_type": "stream",
     "text": [
      "Array1: [ 2  2 10  2  5]\n",
      "Array2: [ 2  1  6  5 10]\n",
      "Addition: [ 4  3 16  7 15]\n",
      "Subtraction: [ 0  1  4 -3 -5]\n",
      "Multiplication: [ 4  2 60 10 50]\n"
     ]
    }
   ],
   "source": [
    "# 5. Створення двох одновимірних масивів розміром 5, виконання поелементних операцій\n",
    "import numpy as np\n",
    "\n",
    "array1 = np.random.randint(1, 11, size=5)\n",
    "array2 = np.random.randint(1, 11, size=5)\n",
    "print(\"Array1:\", array1)\n",
    "print(\"Array2:\", array2)\n",
    "print(\"Addition:\", array1 + array2)\n",
    "print(\"Subtraction:\", array1 - array2)\n",
    "print(\"Multiplication:\", array1 * array2)"
   ]
  },
  {
   "cell_type": "code",
   "execution_count": 23,
   "id": "c8c95d43-f1da-4e6c-8c1f-b894f9072503",
   "metadata": {},
   "outputs": [
    {
     "name": "stdout",
     "output_type": "stream",
     "text": [
      "Vector1: [ 7  8  7  5  6  2 10]\n",
      "Vector2: [ 9  4 10  2  1  5  9]\n",
      "Dot product: 281\n"
     ]
    }
   ],
   "source": [
    "# 6. Створення двох векторів розміром 7, знаходження скалярного добутку\n",
    "import numpy as np\n",
    "\n",
    "vector1 = np.random.randint(1, 11, size=7)\n",
    "vector2 = np.random.randint(1, 11, size=7)\n",
    "print(\"Vector1:\", vector1)\n",
    "print(\"Vector2:\", vector2)\n",
    "print(\"Dot product:\", np.dot(vector1, vector2))"
   ]
  },
  {
   "cell_type": "code",
   "execution_count": 24,
   "id": "ebb673b3-57b3-4417-82b5-788d57cb8d0c",
   "metadata": {},
   "outputs": [
    {
     "name": "stdout",
     "output_type": "stream",
     "text": [
      "Matrix 1:\n",
      " [[9 3]\n",
      " [1 2]]\n",
      "Matrix 2:\n",
      " [[5 3 6]\n",
      " [2 8 6]]\n",
      "Result of multiplication:\n",
      " [[51 51 72]\n",
      " [ 9 19 18]]\n"
     ]
    }
   ],
   "source": [
    "# 7. Створення двох матриць розміром 2x2 та 2x3 та їх перемноження\n",
    "import numpy as np\n",
    "\n",
    "matrix1 = np.random.randint(1, 11, size=(2, 2))\n",
    "matrix2 = np.random.randint(1, 11, size=(2, 3))\n",
    "print(\"Matrix 1:\\n\", matrix1)\n",
    "print(\"Matrix 2:\\n\", matrix2)\n",
    "try:\n",
    "    result_matrix = np.dot(matrix1, matrix2)\n",
    "    print(\"Result of multiplication:\\n\", result_matrix)\n",
    "except ValueError as e:\n",
    "    print(\"Error:\", e)"
   ]
  },
  {
   "cell_type": "code",
   "execution_count": 25,
   "id": "e18a2807-15fa-4c02-98a2-9cd10f2cf73e",
   "metadata": {},
   "outputs": [
    {
     "name": "stdout",
     "output_type": "stream",
     "text": [
      "Matrix 3:\n",
      " [[8 1 3]\n",
      " [1 4 7]\n",
      " [5 6 6]]\n",
      "Inverse of Matrix 3:\n",
      " [[ 0.11464968 -0.07643312  0.03184713]\n",
      " [-0.18471338 -0.21019108  0.33757962]\n",
      " [ 0.08917197  0.27388535 -0.19745223]]\n"
     ]
    }
   ],
   "source": [
    "# 8. Створення матриці розміром 3x3 та знаходження її оберненої матриці\n",
    "import numpy as np\n",
    "\n",
    "matrix3 = np.random.randint(1, 11, size=(3, 3))\n",
    "print(\"Matrix 3:\\n\", matrix3)\n",
    "try:\n",
    "    inverse_matrix = np.linalg.inv(matrix3)\n",
    "    print(\"Inverse of Matrix 3:\\n\", inverse_matrix)\n",
    "except np.linalg.LinAlgError as e:\n",
    "    print(\"Error:\", e)"
   ]
  },
  {
   "cell_type": "code",
   "execution_count": 26,
   "id": "26a57c07-1e0e-4b74-9692-8341e379be71",
   "metadata": {},
   "outputs": [
    {
     "name": "stdout",
     "output_type": "stream",
     "text": [
      "Matrix 4:\n",
      " [[0.89573209 0.80362831 0.05035642 0.21902158]\n",
      " [0.55398178 0.97180527 0.88811306 0.0455751 ]\n",
      " [0.18468466 0.55207555 0.57463041 0.97064677]\n",
      " [0.60670179 0.23956421 0.72158215 0.99213195]]\n",
      "Transposed Matrix 4:\n",
      " [[0.89573209 0.55398178 0.18468466 0.60670179]\n",
      " [0.80362831 0.97180527 0.55207555 0.23956421]\n",
      " [0.05035642 0.88811306 0.57463041 0.72158215]\n",
      " [0.21902158 0.0455751  0.97064677 0.99213195]]\n"
     ]
    }
   ],
   "source": [
    "# 9. Створення матриці розміром 4x4 та транспонування її\n",
    "import numpy as np\n",
    "\n",
    "matrix4 = np.random.rand(4, 4)\n",
    "print(\"Matrix 4:\\n\", matrix4)\n",
    "transposed_matrix = matrix4.T\n",
    "print(\"Transposed Matrix 4:\\n\", transposed_matrix)"
   ]
  },
  {
   "cell_type": "code",
   "execution_count": 27,
   "id": "8e8ab04c-1b52-44c1-b28f-84edea0cae27",
   "metadata": {},
   "outputs": [
    {
     "name": "stdout",
     "output_type": "stream",
     "text": [
      "Matrix 5:\n",
      " [[ 7  2  4  7]\n",
      " [10  9  7  1]\n",
      " [10  8  5  9]]\n",
      "Vector 1:\n",
      " [1 7 6 1]\n",
      "Result of matrix-vector multiplication:\n",
      " [ 52 116 105]\n"
     ]
    }
   ],
   "source": [
    "# 10. Створення матриці розміром 3x4 та вектора розміром 4 та їх перемноження\n",
    "import numpy as np\n",
    "\n",
    "matrix5 = np.random.randint(1, 11, size=(3, 4))\n",
    "vector1 = np.random.randint(1, 11, size=4)\n",
    "print(\"Matrix 5:\\n\", matrix5)\n",
    "print(\"Vector 1:\\n\", vector1)\n",
    "result_vector = np.dot(matrix5, vector1)\n",
    "print(\"Result of matrix-vector multiplication:\\n\", result_vector)"
   ]
  },
  {
   "cell_type": "code",
   "execution_count": 28,
   "id": "b049627b-dfb9-4b22-9523-37971ce46053",
   "metadata": {},
   "outputs": [
    {
     "name": "stdout",
     "output_type": "stream",
     "text": [
      "Matrix 1:\n",
      " [[0.26075365 0.87725801 0.2931169 ]\n",
      " [0.05239736 0.43442807 0.52360782]]\n",
      "Vector 1:\n",
      " [0.41541125 0.27295288 0.58257035]\n",
      "Result of matrix-vector multiplication:\n",
      " [0.51853131 0.44538323]\n"
     ]
    }
   ],
   "source": [
    "# 11. Створення матриці розміром 2x3 та вектора розміром 3 та їх перемноження\n",
    "import numpy as np\n",
    "\n",
    "matrix1 = np.random.rand(2, 3)\n",
    "vector1 = np.random.rand(3)\n",
    "print(\"Matrix 1:\\n\", matrix1)\n",
    "print(\"Vector 1:\\n\", vector1)\n",
    "result_vector = np.dot(matrix1, vector1)\n",
    "print(\"Result of matrix-vector multiplication:\\n\", result_vector)"
   ]
  },
  {
   "cell_type": "code",
   "execution_count": 29,
   "id": "84913f98-8a05-4185-a943-26f616020edd",
   "metadata": {},
   "outputs": [
    {
     "name": "stdout",
     "output_type": "stream",
     "text": [
      "Matrix 2:\n",
      " [[5 3]\n",
      " [4 6]]\n",
      "Matrix 3:\n",
      " [[5 9]\n",
      " [1 1]]\n",
      "Elementwise product:\n",
      " [[25 27]\n",
      " [ 4  6]]\n"
     ]
    }
   ],
   "source": [
    "# 12. Створення двох матриць розміром 2x2 та виконання їхнього поелементного множення\n",
    "import numpy as np\n",
    "\n",
    "matrix2 = np.random.randint(1, 11, size=(2, 2))\n",
    "matrix3 = np.random.randint(1, 11, size=(2, 2))\n",
    "print(\"Matrix 2:\\n\", matrix2)\n",
    "print(\"Matrix 3:\\n\", matrix3)\n",
    "elementwise_product = np.multiply(matrix2, matrix3)\n",
    "print(\"Elementwise product:\\n\", elementwise_product)"
   ]
  },
  {
   "cell_type": "code",
   "execution_count": 30,
   "id": "3620215d-2485-4e72-8059-7ac6f5865876",
   "metadata": {},
   "outputs": [
    {
     "name": "stdout",
     "output_type": "stream",
     "text": [
      "Matrix 4:\n",
      " [[2 2]\n",
      " [4 3]]\n",
      "Matrix 5:\n",
      " [[2 3]\n",
      " [7 2]]\n",
      "Product of matrices:\n",
      " [[18 10]\n",
      " [29 18]]\n"
     ]
    }
   ],
   "source": [
    "# 13. Створення двох матриць розміром 2x2 та знаходження їх добутку\n",
    "import numpy as np\n",
    "\n",
    "matrix4 = np.random.randint(1, 11, size=(2, 2))\n",
    "matrix5 = np.random.randint(1, 11, size=(2, 2))\n",
    "print(\"Matrix 4:\\n\", matrix4)\n",
    "print(\"Matrix 5:\\n\", matrix5)\n",
    "product_matrix = np.dot(matrix4, matrix5)\n",
    "print(\"Product of matrices:\\n\", product_matrix)"
   ]
  },
  {
   "cell_type": "code",
   "execution_count": 31,
   "id": "8d66dbfb-9e79-43cc-b7bb-df7ad26dd2ef",
   "metadata": {},
   "outputs": [
    {
     "name": "stdout",
     "output_type": "stream",
     "text": [
      "Matrix 6:\n",
      " [[54 17 38 68 47]\n",
      " [21  3  3 20 87]\n",
      " [ 5 56 66  7 56]\n",
      " [ 4 75 63 33 32]\n",
      " [83 79 36 76 74]]\n",
      "Sum of elements:\n",
      " 1103\n"
     ]
    }
   ],
   "source": [
    "# 14. Створення матриці розміром 5x5 та знаходження суми її елементів\n",
    "import numpy as np\n",
    "\n",
    "matrix6 = np.random.randint(1, 101, size=(5, 5))\n",
    "print(\"Matrix 6:\\n\", matrix6)\n",
    "sum_elements = np.sum(matrix6)\n",
    "print(\"Sum of elements:\\n\", sum_elements)"
   ]
  },
  {
   "cell_type": "code",
   "execution_count": 32,
   "id": "f41d9ff1-bc2e-4ff4-b645-3aaa3bc43e03",
   "metadata": {},
   "outputs": [
    {
     "name": "stdout",
     "output_type": "stream",
     "text": [
      "Matrix 1:\n",
      " [[10  2 10  2]\n",
      " [ 3  5  5  4]\n",
      " [ 3  4  1  5]\n",
      " [ 9 10  1  8]]\n",
      "Matrix 2:\n",
      " [[ 6  6  5  1]\n",
      " [ 8  4  9  7]\n",
      " [10  5  2  9]\n",
      " [ 4 10  1  7]]\n",
      "Difference of matrices:\n",
      " [[ 4 -4  5  1]\n",
      " [-5  1 -4 -3]\n",
      " [-7 -1 -1 -4]\n",
      " [ 5  0  0  1]]\n"
     ]
    }
   ],
   "source": [
    "# 15. Створення двох матриць розміром 4x4 та знаходження їх різниці\n",
    "import numpy as np\n",
    "\n",
    "matrix1 = np.random.randint(1, 11, size=(4, 4))\n",
    "matrix2 = np.random.randint(1, 11, size=(4, 4))\n",
    "print(\"Matrix 1:\\n\", matrix1)\n",
    "print(\"Matrix 2:\\n\", matrix2)\n",
    "difference_matrix = np.subtract(matrix1, matrix2)\n",
    "print(\"Difference of matrices:\\n\", difference_matrix)"
   ]
  },
  {
   "cell_type": "code",
   "execution_count": 33,
   "id": "351d4911-b28b-43a9-9697-c371645656e9",
   "metadata": {},
   "outputs": [
    {
     "name": "stdout",
     "output_type": "stream",
     "text": [
      "Matrix 3:\n",
      " [[0.66141814 0.32215903 0.96826411]\n",
      " [0.24491776 0.21024823 0.43161294]\n",
      " [0.48351835 0.25058119 0.76696502]]\n",
      "Vector of row sums:\n",
      " [[1.95184128]\n",
      " [0.88677893]\n",
      " [1.50106456]]\n"
     ]
    }
   ],
   "source": [
    "# 16. Створення матриці розміром 3x3 та знаходження вектора сум рядків\n",
    "import numpy as np\n",
    "\n",
    "matrix3 = np.random.rand(3, 3)\n",
    "print(\"Matrix 3:\\n\", matrix3)\n",
    "row_sums = matrix3.sum(axis=1)\n",
    "row_sums_vector = row_sums[:, np.newaxis]\n",
    "print(\"Vector of row sums:\\n\", row_sums_vector)"
   ]
  },
  {
   "cell_type": "code",
   "execution_count": 34,
   "id": "a53091fd-82c6-4d32-8ead-f8a201c106a5",
   "metadata": {},
   "outputs": [
    {
     "name": "stdout",
     "output_type": "stream",
     "text": [
      "Matrix 4:\n",
      " [[ 2 10  8  5]\n",
      " [ 9  4  7  7]\n",
      " [ 3  9  9  9]]\n",
      "Squared matrix:\n",
      " [[  4 100  64  25]\n",
      " [ 81  16  49  49]\n",
      " [  9  81  81  81]]\n"
     ]
    }
   ],
   "source": [
    "# 17. Створення матриці розміром 3x4 та матриці з квадратами її елементів\n",
    "import numpy as np\n",
    "\n",
    "matrix4 = np.random.randint(1, 11, size=(3, 4))\n",
    "print(\"Matrix 4:\\n\", matrix4)\n",
    "squared_matrix = np.square(matrix4)\n",
    "print(\"Squared matrix:\\n\", squared_matrix)"
   ]
  },
  {
   "cell_type": "code",
   "execution_count": 35,
   "id": "a6d29c01-4f7b-4c88-907b-15836a39e0d4",
   "metadata": {},
   "outputs": [
    {
     "name": "stdout",
     "output_type": "stream",
     "text": [
      "Vector 1:\n",
      " [25 40 26  9]\n",
      "Vector with square roots:\n",
      " [5.         6.32455532 5.09901951 3.        ]\n"
     ]
    }
   ],
   "source": [
    "# 18. Створення вектора розміром 4 та знаходження вектора з квадратними коренями його елементів\n",
    "import numpy as np\n",
    "\n",
    "vector1 = np.random.randint(1, 51, size=4)\n",
    "print(\"Vector 1:\\n\", vector1)\n",
    "sqrt_vector = np.sqrt(vector1)\n",
    "print(\"Vector with square roots:\\n\", sqrt_vector)"
   ]
  },
  {
   "cell_type": "code",
   "execution_count": null,
   "id": "d34532a4-585f-40ba-b638-af2c24d92908",
   "metadata": {},
   "outputs": [],
   "source": []
  }
 ],
 "metadata": {
  "kernelspec": {
   "display_name": "Python 3 (ipykernel)",
   "language": "python",
   "name": "python3"
  },
  "language_info": {
   "codemirror_mode": {
    "name": "ipython",
    "version": 3
   },
   "file_extension": ".py",
   "mimetype": "text/x-python",
   "name": "python",
   "nbconvert_exporter": "python",
   "pygments_lexer": "ipython3",
   "version": "3.10.11"
  }
 },
 "nbformat": 4,
 "nbformat_minor": 5
}
